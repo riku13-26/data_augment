{
 "cells": [
  {
   "cell_type": "code",
   "execution_count": 1,
   "id": "59d3302d",
   "metadata": {},
   "outputs": [
    {
     "name": "stderr",
     "output_type": "stream",
     "text": [
      "C:\\Users\\rikut\\AppData\\Local\\Packages\\PythonSoftwareFoundation.Python.3.11_qbz5n2kfra8p0\\LocalCache\\local-packages\\Python311\\site-packages\\tqdm\\auto.py:21: TqdmWarning: IProgress not found. Please update jupyter and ipywidgets. See https://ipywidgets.readthedocs.io/en/stable/user_install.html\n",
      "  from .autonotebook import tqdm as notebook_tqdm\n"
     ]
    },
    {
     "name": "stdout",
     "output_type": "stream",
     "text": [
      "label id -> name: {0: 'positive', 1: 'negative', 2: 'neutral'}\n",
      "\n",
      "[train] total=187528\n",
      "  id=0  positive : 165477  (88.24%)\n",
      "  id=1  negative :  22051  (11.76%)\n",
      "  id=2  neutral  :      0  ( 0.00%)\n",
      "\n",
      "[validation] total=5654\n",
      "  id=0  positive :   4832  (85.46%)\n",
      "  id=1  negative :    822  (14.54%)\n",
      "  id=2  neutral  :      0  ( 0.00%)\n",
      "\n",
      "[ALL SPLITS] total=193182\n",
      "  id=0  positive : 170309  (88.16%)\n",
      "  id=1  negative :  22873  (11.84%)\n",
      "  id=2  neutral  :      0  ( 0.00%)\n"
     ]
    }
   ],
   "source": [
    "from datasets import load_dataset\n",
    "from collections import Counter\n",
    "\n",
    "# MARC-ja を読み込み（trust_remote_code 必須）\n",
    "ds = load_dataset(\"shunk031/JGLUE\", name=\"MARC-ja\", trust_remote_code=True)\n",
    "\n",
    "# ラベル名を取得（ClassLabel の names）\n",
    "label_names = ds[\"train\"].features[\"label\"].names  # 例: ['negative', 'positive'] or ['positive','negative']\n",
    "print(\"label id -> name:\", dict(enumerate(label_names)))\n",
    "\n",
    "def show_dist(split_name):\n",
    "    labels = ds[split_name][\"label\"]\n",
    "    cnt = Counter(labels)\n",
    "    total = len(labels)\n",
    "    print(f\"\\n[{split_name}] total={total}\")\n",
    "    for i, name in enumerate(label_names):\n",
    "        n = cnt.get(i, 0)\n",
    "        pct = (n / total * 100) if total else 0.0\n",
    "        print(f\"  id={i:<2} {name:<8} : {n:>6}  ({pct:5.2f}%)\")\n",
    "\n",
    "# ある分割が存在するかはデータセットに依存するので guard 付きで回す\n",
    "for split in [\"train\", \"validation\", \"test\"]:\n",
    "    if split in ds:\n",
    "        show_dist(split)\n",
    "\n",
    "# 参考: 全分割まとめ（存在するものだけ結合）\n",
    "all_labels = []\n",
    "for split in ds.keys():\n",
    "    all_labels.extend(ds[split][\"label\"])\n",
    "cnt_all = Counter(all_labels)\n",
    "total_all = len(all_labels)\n",
    "print(f\"\\n[ALL SPLITS] total={total_all}\")\n",
    "for i, name in enumerate(label_names):\n",
    "    n = cnt_all.get(i, 0)\n",
    "    pct = (n / total_all * 100) if total_all else 0.0\n",
    "    print(f\"  id={i:<2} {name:<8} : {n:>6}  ({pct:5.2f}%)\")\n"
   ]
  },
  {
   "cell_type": "code",
   "execution_count": 4,
   "id": "88a63458",
   "metadata": {},
   "outputs": [
    {
     "data": {
      "text/plain": [
       "{'sentence': ['以前職場の方にこれをみて少しでも元氣になってくださいと手渡して、早３年。返してくれと一度言ったが、結局返ってこなかった。６年前にも、職場の（といっても海外ですが）英語の先生に貸したら、これは素晴らしい！と言って、授業でも何度も生徒に見せたり、家でも見てたりしたそうで、結局帰国までに返してもらえなかった。。。この作品、結局３回購入してます。とほほでありつつ、誰かの心の支えになってくれればと願いつつ。エンディングの曲も好きです。あー、自分も突き進む人生を歩みたい。結婚もしたいが。。。',\n",
       "  'ジュリアロバーツを初めて見たのがこの作品だったということは良かったのか悪かったのかわからない。だってアメリカの有名女優という役だったから、そういう先入観で見た方がおもしろかったかも。でもイギリスのポートベローやロンドンの街並み、人々の暮らしがちりばめられていてとてもゆったりとした雰囲気。彼はちょっとダサく、でもやさしいフツーの人なのだ。（ハンサムと言うことをのぞけばね）二人や友人達の会話は要チェック。私なんぞ対訳のシナリオを買っちゃって勉強した。挿入歌がこれまたいいし。ぜひ見てね。',\n",
       "  '私はカントリーが好きで当初CDを購入していいなと思ったのです、映画はそれなりのストーリー、まずまずです',\n",
       "  '子供の時日本語訳を何冊か読んだ懐かしのシャーロック・ホームズ古い英語？が最初は若干わかりにくかったですが、複雑な表現はないのでそのうち慣れます。全集なのでとにかく長いですが、お値段も安くシャーロック・ホームズファンにおすすめかと。',\n",
       "  '自殺志願者おじ、ヤクチューの祖父、引きこもり息子、破綻した父、 それを必死にまともてようとする母、そして夢みる娘 個々は腐ってて、メンツで考えれば、いつ崩れてもおかしくない家族でも、内面ではそれぞれを愛している。 娘のために必死になる家族。無口だった息子。も自殺志願者のおじも最後はみんな笑いながら、娘を守ろうとする。見てるこっちまで呆れるほどに笑える。 幸せってこれだなんだよねきっと。 途中であきても最後まで見た方が良い。 泣きながら大笑いした。 あー落ち込んでたのに元気でた!',\n",
       "  \"大好きなＰＳＢの中でも１番好きなアルバムです。メロディラインの完成度，テクノを基本としながら他の音を果敢に取り入れたスケールの大きなサウンド，全てが素晴らしいの一言に付きます。クラシックな音を巧みに取り入れてオペラのような壮大さを醸し出す「Left to my own devices」，雨音とＰＳＢ的テクノの融合「I want a dog」，大ヒットしたミディアム「Domino Dancing」，軍隊の行進を思わせる？壮大なサウンドで一番のお気に入り「I'm not scared」，爽快さではアルバム中Ｎｏ．１「Always on my mind」，ラストを飾る軽快な一曲「It's alright」。全てがシングルカットレベルの名曲揃いです。\",\n",
       "  'この価格で、このスピートでSunDISKが購入できるのでいい時代になりました。',\n",
       "  'タイトル通り、２６年ぶりのアナログ盤を購入しました。ちなみに２６年前は、渡辺美里さんの「LOVING\\u3000YOU」を購入してます。さて本題のサージェントですが、輸入国内盤を購入しました。ビートルズの新品ＬＰは初めてでしたので、少し高いですが帯も欲しくて購入！自動でカートリッジが戻るので、例の犬の声？が最後まで聞けずでした。オートじゃないとリフレインするのでしょうか？',\n",
       "  '\\u3000独特の世界は、男たちの挽歌時代から変わらない。登場人物（主役に偏る）の感情表現に重点を置き、流れるような映像技術で観客を魅了する。ＳＦスリラーとなってはいるものの、ＳＦ色は濃くなく（実際現実化しつつある位だから）ストーリー自体も正しい行為をする者対悪人というウー監督の定番である。本作はそんな監督独自のスタイルによってはじめて、体型の違う主役２人の顔交換という強引な展開に観客を引きずり込むことに成功した、とも思える。パッケージにもある通り、確かに\"今世紀最高の傑作\"の一本ではあると思うが、良くも悪くもウー監督の映画は主役がすべてなのである。',\n",
       "  '全く３Ｄとはならなく、孫たちも途中で見たくなくなったくらいの不出来。他の人には購入しないようＰＲしたいくらい。なぜ、こんなＤＶＤを３Ｄとして販売しているのか理解できない。買って大失敗。\\u3000Ｉ．Ｉ'],\n",
       " 'label': [0, 0, 0, 0, 0, 0, 0, 0, 0, 1],\n",
       " 'review_id': ['R2H83XHJUDZBHT',\n",
       "  'R3FRTU63ITKFKB',\n",
       "  'R1IRCR6D1WWM4B',\n",
       "  'R1C6014RWBEWFH',\n",
       "  'R1X34GVUNQQKPX',\n",
       "  'R3A8Y91SEX0F2O',\n",
       "  'RIZYWUS21CPZG',\n",
       "  'RY6JIY7GVX7FY',\n",
       "  'R38YCK808K11SG',\n",
       "  'RKE7Z1V1JAJ0A']}"
      ]
     },
     "execution_count": 4,
     "metadata": {},
     "output_type": "execute_result"
    }
   ],
   "source": [
    "ds['train'][:10]"
   ]
  },
  {
   "cell_type": "code",
   "execution_count": null,
   "id": "7cb4ac10",
   "metadata": {},
   "outputs": [],
   "source": []
  }
 ],
 "metadata": {
  "kernelspec": {
   "display_name": "Python 3",
   "language": "python",
   "name": "python3"
  },
  "language_info": {
   "codemirror_mode": {
    "name": "ipython",
    "version": 3
   },
   "file_extension": ".py",
   "mimetype": "text/x-python",
   "name": "python",
   "nbconvert_exporter": "python",
   "pygments_lexer": "ipython3",
   "version": "3.11.9"
  }
 },
 "nbformat": 4,
 "nbformat_minor": 5
}
